{
 "cells": [
  {
   "cell_type": "code",
   "execution_count": null,
   "id": "b677afff",
   "metadata": {
    "colab": {
     "base_uri": "https://localhost:8080/"
    },
    "executionInfo": {
     "elapsed": 4640,
     "status": "ok",
     "timestamp": 1760723169715,
     "user": {
      "displayName": "Merküt merkut",
      "userId": "02212118982751073233"
     },
     "user_tz": -180
    },
    "id": "b677afff",
    "outputId": "08e37958-1fb7-403f-fd34-0c0639c5a363"
   },
   "outputs": [
    {
     "name": "stdout",
     "output_type": "stream",
     "text": [
      "2.19.0\n",
      "GPU: [PhysicalDevice(name='/physical_device:GPU:0', device_type='GPU')]\n"
     ]
    }
   ],
   "source": [
    "import os\n",
    "import random\n",
    "import numpy as np\n",
    "import pandas as pd\n",
    "from datetime import datetime\n",
    "from tensorflow.keras.models import load_model\n",
    "\n",
    "import tensorflow as tf\n",
    "from tensorflow import keras\n",
    "from tensorflow.keras import layers\n",
    "from tensorflow.keras.optimizers import Adam\n",
    "\n",
    "from sklearn.preprocessing import MinMaxScaler\n",
    "from sklearn.metrics import mean_squared_error, mean_absolute_error\n",
    "from sklearn.model_selection import train_test_split\n",
    "import joblib\n",
    "\n",
    "SEED = 42\n",
    "random.seed(SEED)\n",
    "np.random.seed(SEED)\n",
    "tf.random.set_seed(SEED)\n",
    "\n",
    "tf.config.experimental.enable_op_determinism()\n",
    "\n",
    "print(tf.__version__)\n",
    "try:\n",
    "    print('GPU:', tf.config.list_physical_devices('GPU'))\n",
    "except Exception as e:\n",
    "    print('GPU info error:', e)"
   ]
  },
  {
   "cell_type": "code",
   "execution_count": null,
   "id": "de2f7e08",
   "metadata": {
    "executionInfo": {
     "elapsed": 1455,
     "status": "ok",
     "timestamp": 1760723171177,
     "user": {
      "displayName": "Merküt merkut",
      "userId": "02212118982751073233"
     },
     "user_tz": -180
    },
    "id": "de2f7e08"
   },
   "outputs": [],
   "source": [
    "BASE_DIR = ''\n",
    "TRAIN_CSV = os.path.join(BASE_DIR, '')\n",
    "TEST_CSV = os.path.join(BASE_DIR, '')\n",
    "PREDICTIONS_CSV = os.path.join('predictions.csv')\n",
    "MODEL_DIR = os.path.join(BASE_DIR, '')\n",
    "os.makedirs(MODEL_DIR, exist_ok=True)\n",
    "\n",
    "TIME_COL = 'Timestamp_Local'\n",
    "SITE_COL = 'Site'\n",
    "FLAG_COL = 'Demand_Response_Flag'\n",
    "TARGET_COL = 'Demand_Response_Capacity_kW'"
   ]
  },
  {
   "cell_type": "code",
   "execution_count": 4,
   "id": "zcEm886j5Dvb",
   "metadata": {
    "executionInfo": {
     "elapsed": 6,
     "status": "ok",
     "timestamp": 1760723171195,
     "user": {
      "displayName": "Merküt merkut",
      "userId": "02212118982751073233"
     },
     "user_tz": -180
    },
    "id": "zcEm886j5Dvb"
   },
   "outputs": [],
   "source": [
    "pd.set_option('display.max_columns', None)\n",
    "pd.set_option('display.max_rows', None)\n",
    "pd.set_option('display.width', 1000)\n",
    "pd.set_option('display.max_colwidth', 1000)"
   ]
  },
  {
   "cell_type": "code",
   "execution_count": null,
   "id": "tuJ__kp2HNbA",
   "metadata": {
    "executionInfo": {
     "elapsed": 1495,
     "status": "ok",
     "timestamp": 1760723172703,
     "user": {
      "displayName": "Merküt merkut",
      "userId": "02212118982751073233"
     },
     "user_tz": -180
    },
    "id": "tuJ__kp2HNbA"
   },
   "outputs": [],
   "source": [
    "train_df = pd.read_csv(TRAIN_CSV)\n",
    "test_df = pd.read_csv(TEST_CSV)"
   ]
  },
  {
   "cell_type": "code",
   "execution_count": null,
   "id": "HTpl7Fl8HOaR",
   "metadata": {
    "colab": {
     "base_uri": "https://localhost:8080/"
    },
    "collapsed": true,
    "executionInfo": {
     "elapsed": 76,
     "status": "ok",
     "timestamp": 1760723172810,
     "user": {
      "displayName": "Merküt merkut",
      "userId": "02212118982751073233"
     },
     "user_tz": -180
    },
    "id": "HTpl7Fl8HOaR",
    "outputId": "b4c2e93b-d545-4618-f507-2a1528393f30"
   },
   "outputs": [],
   "source": [
    "print('[INFO] Train shape:', train_df.shape)\n",
    "print('[INFO] Test shape:', test_df.shape)\n",
    "\n",
    "print('[INFO] Train columns:', list(train_df.columns))\n",
    "print('[INFO] Test columns:', list(test_df.columns))\n",
    "\n",
    "print('[INFO] Train shape:', train_df.head(10))\n",
    "print('[INFO] Test shape:', test_df.head(10))"
   ]
  },
  {
   "cell_type": "code",
   "execution_count": null,
   "id": "ymSr8SuEJtiV",
   "metadata": {
    "colab": {
     "base_uri": "https://localhost:8080/"
    },
    "collapsed": true,
    "executionInfo": {
     "elapsed": 34,
     "status": "ok",
     "timestamp": 1760723172892,
     "user": {
      "displayName": "Merküt merkut",
      "userId": "02212118982751073233"
     },
     "user_tz": -180
    },
    "id": "ymSr8SuEJtiV",
    "outputId": "f79f6fe1-41ab-4e19-c14f-d8db51820968"
   },
   "outputs": [],
   "source": [
    "print(train_df.head())\n",
    "print(test_df.head())"
   ]
  },
  {
   "cell_type": "code",
   "execution_count": 10,
   "id": "-SyIba4aNXb-",
   "metadata": {
    "executionInfo": {
     "elapsed": 162,
     "status": "ok",
     "timestamp": 1760723173055,
     "user": {
      "displayName": "Merküt merkut",
      "userId": "02212118982751073233"
     },
     "user_tz": -180
    },
    "id": "-SyIba4aNXb-"
   },
   "outputs": [],
   "source": [
    "def create_enhanced_features(df):\n",
    "    df = df.copy()\n",
    "    df['Timestamp_Local'] = pd.to_datetime(df['Timestamp_Local'])\n",
    "    df['hour'] = df['Timestamp_Local'].dt.hour\n",
    "    df['month'] = df['Timestamp_Local'].dt.month\n",
    "\n",
    "    hour_rad = 2 * np.pi * df['hour'] / 24\n",
    "    df['hour_sin'] = np.sin(hour_rad)\n",
    "    df['hour_cos'] = np.cos(hour_rad)\n",
    "\n",
    "    month_rad = 2 * np.pi * (df['month'] - 1) / 12\n",
    "    df['month_sin'] = np.sin(month_rad)\n",
    "    df['month_cos'] = np.cos(month_rad)\n",
    "\n",
    "    df['weekday'] = df['Timestamp_Local'].dt.weekday\n",
    "    df['weekday_sin'] = np.sin(2 * np.pi * df['weekday'] / 7)\n",
    "    df['weekday_cos'] = np.cos(2 * np.pi * df['weekday'] / 7)\n",
    "\n",
    "    allowed_months = {1, 2, 6, 7, 8, 12}\n",
    "    df['is_allowed_month'] = df['month'].isin(allowed_months).astype(int)\n",
    "\n",
    "    df['is_7'] = (df['hour'] == 7).astype(int)\n",
    "    df['is_8'] = (df['hour'] == 8).astype(int)\n",
    "    df['is_9'] = (df['hour'] == 9).astype(int)\n",
    "    df['is_10'] = (df['hour'] == 10).astype(int)\n",
    "    df['is_11'] = (df['hour'] == 11).astype(int)\n",
    "    df['is_12'] = (df['hour'] == 12).astype(int)\n",
    "    df['is_13'] = (df['hour'] == 13).astype(int)\n",
    "    df['is_14'] = (df['hour'] == 14).astype(int)\n",
    "    df['is_15'] = (df['hour'] == 15).astype(int)\n",
    "    df['is_16'] = (df['hour'] == 16).astype(int)\n",
    "    df['is_17'] = (df['hour'] == 17).astype(int)\n",
    "    df['is_18'] = (df['hour'] == 18).astype(int)\n",
    "    df['is_19'] = (df['hour'] == 19).astype(int)\n",
    "\n",
    "    df['is_january'] = (df['month'] == 1).astype(int)\n",
    "    df['is_february'] = (df['month'] == 2).astype(int)\n",
    "    df['is_june'] = (df['month'] == 6).astype(int)\n",
    "    df['is_july'] = (df['month'] == 7).astype(int)\n",
    "    df['is_august'] = (df['month'] == 8).astype(int)\n",
    "    df['is_december'] = (df['month'] == 12).astype(int)\n",
    "\n",
    "    df['is_morning'] = ((df['hour'] >= 10) & (df['hour'] <= 11)).astype(int)\n",
    "    df['is_afternoon'] = ((df['hour'] >= 12) & (df['hour'] <= 17)).astype(int)\n",
    "\n",
    "    df = df.drop(columns=['hour','weekday','month'])\n",
    "\n",
    "    return df\n",
    "\n",
    "\n",
    "train_df = create_enhanced_features(train_df)\n",
    "test_df = create_enhanced_features(test_df)"
   ]
  },
  {
   "cell_type": "code",
   "execution_count": null,
   "id": "cY9jqoe9pOuV",
   "metadata": {
    "colab": {
     "base_uri": "https://localhost:8080/"
    },
    "collapsed": true,
    "executionInfo": {
     "elapsed": 7149,
     "status": "ok",
     "timestamp": 1760723180303,
     "user": {
      "displayName": "Merküt merkut",
      "userId": "02212118982751073233"
     },
     "user_tz": -180
    },
    "id": "cY9jqoe9pOuV",
    "outputId": "aea471ad-03d5-46c6-bb3d-a88b28166a75"
   },
   "outputs": [],
   "source": [
    "def create_timeofday_pastdays_features(\n",
    "    df,\n",
    "    timestamp_col='Timestamp_Local',\n",
    "    power_col='Building_Power_kW',\n",
    "    temp_col='Dry_Bulb_Temperature_C',\n",
    "    windows=(1,2,3,4,5,6,7,8,9,10,11,12,13,14),\n",
    "    min_periods=1,\n",
    "    time_format='%H:%M:%S'\n",
    "    ):\n",
    "    \"\"\"\n",
    "    For each original timestamp, compute summaries of the same time-of-day over the\n",
    "    previous N days (exclude current day). Produces features for both power_col and temp_col.\n",
    "    Returns: (df_with_features, daily_agg_df)\n",
    "    \"\"\"\n",
    "    df = df.copy()\n",
    "\n",
    "    # helper columns\n",
    "    df['date'] = df[timestamp_col].dt.normalize()        # midnight timestamp for the date\n",
    "    df['time_of_day'] = df[timestamp_col].dt.strftime(time_format)\n",
    "\n",
    "\n",
    "    power_col = 'Building_Power_kW'\n",
    "    df['trailing_15m_pow_delta'] = df[power_col] - df[power_col].shift(1)\n",
    "    df['trailing_30m_pow_delta'] = df[power_col] - df[power_col].shift(2)\n",
    "    df['trailing_45m_pow_delta'] = df[power_col] - df[power_col].shift(3)\n",
    "    df['trailing_60m_pow_delta'] = df[power_col] - df[power_col].shift(4)\n",
    "    df['trailing_1.25_hours_pow_delta'] = df[power_col] - df[power_col].shift(5)\n",
    "    df['trailing_1.5_hours_pow_delta'] = df[power_col] - df[power_col].shift(6)\n",
    "    df['trailing_1.75_hours_pow_delta'] = df[power_col] - df[power_col].shift(7)\n",
    "    df['trailing_2_hours_pow_delta'] = df[power_col] - df[power_col].shift(8)\n",
    "    df['trailing_2.25_hours_pow_delta'] = df[power_col] - df[power_col].shift(9)\n",
    "    df['trailing_2.5_hours_pow_delta'] = df[power_col] - df[power_col].shift(10)\n",
    "    df['trailing_2.75_hours_pow_delta'] = df[power_col] - df[power_col].shift(11)\n",
    "    df['trailing_3_hours_pow_delta'] = df[power_col] - df[power_col].shift(12)\n",
    "    df['trailing_3.25_hours_pow_delta'] = df[power_col] - df[power_col].shift(13)\n",
    "    df['trailing_3.5_hours_pow_delta'] = df[power_col] - df[power_col].shift(14)\n",
    "    df['trailing_3.75_hours_pow_delta'] = df[power_col] - df[power_col].shift(15)\n",
    "    df['trailing_4_hours_pow_delta'] = df[power_col] - df[power_col].shift(16)\n",
    "    df['trailing_4.25_hours_pow_delta'] = df[power_col] - df[power_col].shift(17)\n",
    "    df['trailing_4.5_hours_pow_delta'] = df[power_col] - df[power_col].shift(18)\n",
    "    df['trailing_4.75_hours_pow_delta'] = df[power_col] - df[power_col].shift(19)\n",
    "    df['trailing_5_hours_pow_delta'] = df[power_col] - df[power_col].shift(20)\n",
    "    df['trailing_5.25_hours_pow_delta'] = df[power_col] - df[power_col].shift(21)\n",
    "    df['trailing_5.5_hours_pow_delta'] = df[power_col] - df[power_col].shift(22)\n",
    "    df['trailing_5.75_hours_pow_delta'] = df[power_col] - df[power_col].shift(23)\n",
    "    df['trailing_6_hours_pow_delta'] = df[power_col] - df[power_col].shift(24)\n",
    "    df['trailing_7_hours_pow_delta'] = df[power_col] - df[power_col].shift(28)\n",
    "    df['trailing_8_hours_pow_delta'] = df[power_col] - df[power_col].shift(32)\n",
    "    df['trailing_9_hours_pow_delta'] = df[power_col] - df[power_col].shift(36)\n",
    "    df['trailing_10_hours_pow_delta'] = df[power_col] - df[power_col].shift(40)\n",
    "    df['trailing_11_hours_pow_delta'] = df[power_col] - df[power_col].shift(44)\n",
    "    df['trailing_12_hours_pow_delta'] = df[power_col] - df[power_col].shift(48)\n",
    "\n",
    "    for window, label in [(2,'0.5'),(4, '1h'),(6,'1.5h'), (8, '2h'),(10,'2.5h'), (12,'3h'), (16, '4h'),(48,'12h')]:\n",
    "        df[f'rolling_{label}_avg_pow'] = df[power_col].rolling(window, min_periods=1).mean()\n",
    "        df[f'rolling_{label}_min_pow'] = df[power_col].rolling(window, min_periods=1).min()\n",
    "        df[f'rolling_{label}_max_pow'] = df[power_col].rolling(window, min_periods=1).max()\n",
    "\n",
    "\n",
    "\n",
    "    df['trailing_2h_skew_pow'] = df[power_col].rolling(window=8, min_periods=1).skew()\n",
    "    df['trailing_2h_kurt_pow'] = df[power_col].rolling(window=8, min_periods=1).kurt()\n",
    "    df['trailing_2.25h_skew_pow'] = df[power_col].rolling(window=9, min_periods=1).skew()\n",
    "    df['trailing_2.25h_kurt_pow'] = df[power_col].rolling(window=9, min_periods=1).kurt()\n",
    "    df['trailing_2.5h_skew_pow'] = df[power_col].rolling(window=10, min_periods=1).skew()\n",
    "    df['trailing_2.5h_kurt_pow'] = df[power_col].rolling(window=10, min_periods=1).kurt()\n",
    "    df['trailing_2.75h_skew_pow'] = df[power_col].rolling(window=11, min_periods=1).skew()\n",
    "    df['trailing_2.75h_kurt_pow'] = df[power_col].rolling(window=11, min_periods=1).kurt()\n",
    "\n",
    "    df['trailing_3h_skew_pow'] = df[power_col].rolling(window=12, min_periods=1).skew()\n",
    "    df['trailing_3h_kurt_pow'] = df[power_col].rolling(window=12, min_periods=1).kurt()\n",
    "    df['trailing_3.25h_skew_pow'] = df[power_col].rolling(window=13, min_periods=1).skew()\n",
    "    df['trailing_3.25h_kurt_pow'] = df[power_col].rolling(window=13, min_periods=1).kurt()\n",
    "    df['trailing_3.5h_skew_pow'] = df[power_col].rolling(window=14, min_periods=1).skew()\n",
    "    df['trailing_3.5h_kurt_pow'] = df[power_col].rolling(window=14, min_periods=1).kurt()\n",
    "    df['trailing_3.75h_skew_pow'] = df[power_col].rolling(window=15, min_periods=1).skew()\n",
    "    df['trailing_3.75h_kurt_pow'] = df[power_col].rolling(window=15, min_periods=1).kurt()\n",
    "\n",
    "    df['trailing_4h_skew_pow'] = df[power_col].rolling(window=16, min_periods=1).skew()\n",
    "    df['trailing_4h_kurt_pow'] = df[power_col].rolling(window=16, min_periods=1).kurt()\n",
    "    df['trailing_5h_skew_pow'] = df[power_col].rolling(window=24, min_periods=1).skew()\n",
    "    df['trailing_5h_kurt_pow'] = df[power_col].rolling(window=24, min_periods=1).kurt()\n",
    "    df['trailing_6h_skew_pow'] = df[power_col].rolling(window=24, min_periods=1).skew()\n",
    "    df['trailing_6h_kurt_pow'] = df[power_col].rolling(window=24, min_periods=1).kurt()\n",
    "    df['trailing_7h_skew_pow'] = df[power_col].rolling(window=28, min_periods=1).skew()\n",
    "    df['trailing_7h_kurt_pow'] = df[power_col].rolling(window=28, min_periods=1).kurt()\n",
    "    df['trailing_8h_skew_pow'] = df[power_col].rolling(window=32, min_periods=1).skew()\n",
    "    df['trailing_8h_kurt_pow'] = df[power_col].rolling(window=32, min_periods=1).kurt()\n",
    "    df['trailing_9h_skew_pow'] = df[power_col].rolling(window=36, min_periods=1).skew()\n",
    "    df['trailing_9h_kurt_pow'] = df[power_col].rolling(window=36, min_periods=1).kurt()\n",
    "    df['trailing_10h_skew_pow'] = df[power_col].rolling(window=40, min_periods=1).skew()\n",
    "    df['trailing_10h_kurt_pow'] = df[power_col].rolling(window=40, min_periods=1).kurt()\n",
    "    df['trailing_11h_skew_pow'] = df[power_col].rolling(window=44, min_periods=1).skew()\n",
    "    df['trailing_11h_kurt_pow'] = df[power_col].rolling(window=44, min_periods=1).kurt()\n",
    "    df['trailing_12h_skew_pow'] = df[power_col].rolling(window=48, min_periods=1).skew()\n",
    "    df['trailing_12h_kurt_pow'] = df[power_col].rolling(window=48, min_periods=1).kurt()\n",
    "\n",
    "\n",
    "\n",
    "    temp_col = 'Dry_Bulb_Temperature_C'\n",
    "\n",
    "    df['trailing_15m_temp_delta'] = df[temp_col] - df[temp_col].shift(1)\n",
    "    df['trailing_30m_temp_delta'] = df[temp_col] - df[temp_col].shift(2)\n",
    "    df['trailing_45m_temp_delta'] = df[temp_col] - df[temp_col].shift(3)\n",
    "    df['trailing_60m_temp_delta'] = df[temp_col] - df[temp_col].shift(4)\n",
    "    df['trailing_1.25_hours_temp_delta'] = df[temp_col] - df[temp_col].shift(5)\n",
    "    df['trailing_1.5_hours_temp_delta'] = df[temp_col] - df[temp_col].shift(6)\n",
    "    df['trailing_1.75_hours_temp_delta'] = df[temp_col] - df[temp_col].shift(7)\n",
    "    df['trailing_2_hours_temp_delta'] = df[temp_col] - df[temp_col].shift(8)\n",
    "    df['trailing_2.25_hours_temp_delta'] = df[temp_col] - df[temp_col].shift(9)\n",
    "    df['trailing_2.5_hours_temp_delta'] = df[temp_col] - df[temp_col].shift(10)\n",
    "    df['trailing_2.75_hours_temp_delta'] = df[temp_col] - df[temp_col].shift(11)\n",
    "    df['trailing_3_hours_temp_delta'] = df[temp_col] - df[temp_col].shift(12)\n",
    "    df['trailing_3.25_hours_temp_delta'] = df[temp_col] - df[temp_col].shift(13)\n",
    "    df['trailing_3.5_hours_temp_delta'] = df[temp_col] - df[temp_col].shift(14)\n",
    "    df['trailing_3.75_hours_temp_delta'] = df[temp_col] - df[temp_col].shift(15)\n",
    "    df['trailing_4_hours_temp_delta'] = df[temp_col] - df[temp_col].shift(16)\n",
    "    df['trailing_4.25_hours_temp_delta'] = df[temp_col] - df[temp_col].shift(17)\n",
    "    df['trailing_4.5_hours_temp_delta'] = df[temp_col] - df[temp_col].shift(18)\n",
    "    df['trailing_4.75_hours_temp_delta'] = df[temp_col] - df[temp_col].shift(19)\n",
    "    df['trailing_5_hours_temp_delta'] = df[temp_col] - df[temp_col].shift(20)\n",
    "    df['trailing_5.25_hours_temp_delta'] = df[temp_col] - df[temp_col].shift(21)\n",
    "    df['trailing_5.5_hours_temp_delta'] = df[temp_col] - df[temp_col].shift(22)\n",
    "    df['trailing_5.75_hours_temp_delta'] = df[temp_col] - df[temp_col].shift(23)\n",
    "    df['trailing_6_hours_temp_delta'] = df[temp_col] - df[temp_col].shift(24)\n",
    "    df['trailing_7_hours_temp_delta'] = df[temp_col] - df[temp_col].shift(28)\n",
    "    df['trailing_8_hours_temp_delta'] = df[temp_col] - df[temp_col].shift(32)\n",
    "    df['trailing_9_hours_temp_delta'] = df[temp_col] - df[temp_col].shift(36)\n",
    "    df['trailing_10_hours_temp_delta'] = df[temp_col] - df[temp_col].shift(40)\n",
    "    df['trailing_11_hours_temp_delta'] = df[temp_col] - df[temp_col].shift(44)\n",
    "    df['trailing_12_hours_temp_delta'] = df[temp_col] - df[temp_col].shift(48)\n",
    "\n",
    "    for window, label in [(2,'0.5'),(4, '1h'),(6,'1.5h'), (8, '2h'),(10,'2.5h'), (16, '4h'),(48,'12h')]:\n",
    "        df[f'rolling_{label}_avg_temp'] = df[temp_col].rolling(window, min_periods=1).mean()\n",
    "        df[f'rolling_{label}_min_temp'] = df[temp_col].rolling(window, min_periods=1).min()\n",
    "        df[f'rolling_{label}_max_temp'] = df[temp_col].rolling(window, min_periods=1).max()\n",
    "\n",
    "    df['trailing_2h_skew_temp'] = df[temp_col].rolling(window=8, min_periods=1).skew()\n",
    "    df['trailing_2h_kurt_temp'] = df[temp_col].rolling(window=8, min_periods=1).kurt()\n",
    "    df['trailing_2.25h_skew_temp'] = df[temp_col].rolling(window=9, min_periods=1).skew()\n",
    "    df['trailing_2.25h_kurt_temp'] = df[temp_col].rolling(window=9, min_periods=1).kurt()\n",
    "    df['trailing_2.5h_skew_temp'] = df[temp_col].rolling(window=10, min_periods=1).skew()\n",
    "    df['trailing_2.5h_kurt_temp'] = df[temp_col].rolling(window=10, min_periods=1).kurt()\n",
    "    df['trailing_2.75h_skew_temp'] = df[temp_col].rolling(window=11, min_periods=1).skew()\n",
    "    df['trailing_2.75h_kurt_temp'] = df[temp_col].rolling(window=11, min_periods=1).kurt()\n",
    "\n",
    "    df['trailing_3h_skew_temp'] = df[temp_col].rolling(window=12, min_periods=1).skew()\n",
    "    df['trailing_3h_kurt_temp'] = df[temp_col].rolling(window=12, min_periods=1).kurt()\n",
    "    df['trailing_3.25h_skew_temp'] = df[temp_col].rolling(window=13, min_periods=1).skew()\n",
    "    df['trailing_3.25h_kurt_temp'] = df[temp_col].rolling(window=13, min_periods=1).kurt()\n",
    "    df['trailing_3.5h_skew_temp'] = df[temp_col].rolling(window=14, min_periods=1).skew()\n",
    "    df['trailing_3.5h_kurt_temp'] = df[temp_col].rolling(window=14, min_periods=1).kurt()\n",
    "    df['trailing_3.75h_skew_temp'] = df[temp_col].rolling(window=15, min_periods=1).skew()\n",
    "    df['trailing_3.75h_kurt_temp'] = df[temp_col].rolling(window=15, min_periods=1).kurt()\n",
    "\n",
    "    df['trailing_4h_skew_temp'] = df[temp_col].rolling(window=16, min_periods=1).skew()\n",
    "    df['trailing_4h_kurt_temp'] = df[temp_col].rolling(window=16, min_periods=1).kurt()\n",
    "    df['trailing_5h_skew_temp'] = df[temp_col].rolling(window=24, min_periods=1).skew()\n",
    "    df['trailing_5h_kurt_temp'] = df[temp_col].rolling(window=24, min_periods=1).kurt()\n",
    "    df['trailing_6h_skew_temp'] = df[temp_col].rolling(window=24, min_periods=1).skew()\n",
    "    df['trailing_6h_kurt_temp'] = df[temp_col].rolling(window=24, min_periods=1).kurt()\n",
    "    df['trailing_7h_skew_temp'] = df[temp_col].rolling(window=28, min_periods=1).skew()\n",
    "    df['trailing_7h_kurt_temp'] = df[temp_col].rolling(window=28, min_periods=1).kurt()\n",
    "    df['trailing_8h_skew_temp'] = df[temp_col].rolling(window=32, min_periods=1).skew()\n",
    "    df['trailing_8h_kurt_temp'] = df[temp_col].rolling(window=32, min_periods=1).kurt()\n",
    "    df['trailing_9h_skew_temp'] = df[temp_col].rolling(window=36, min_periods=1).skew()\n",
    "    df['trailing_9h_kurt_temp'] = df[temp_col].rolling(window=36, min_periods=1).kurt()\n",
    "    df['trailing_10h_skew_temp'] = df[temp_col].rolling(window=40, min_periods=1).skew()\n",
    "    df['trailing_10h_kurt_temp'] = df[temp_col].rolling(window=40, min_periods=1).kurt()\n",
    "    df['trailing_11h_skew_temp'] = df[temp_col].rolling(window=44, min_periods=1).skew()\n",
    "    df['trailing_11h_kurt_temp'] = df[temp_col].rolling(window=44, min_periods=1).kurt()\n",
    "    df['trailing_12h_skew_temp'] = df[temp_col].rolling(window=48, min_periods=1).skew()\n",
    "    df['trailing_12h_kurt_temp'] = df[temp_col].rolling(window=48, min_periods=1).kurt()\n",
    "\n",
    "\n",
    "    # 1) Build daily-series: one row per (date, time_of_day)\n",
    "    # aggregate BOTH power and temp to ensure one value per (date,time)\n",
    "    agg_cols = [power_col, temp_col]\n",
    "    daily = (\n",
    "        df.groupby(['date', 'time_of_day'])[agg_cols]\n",
    "          .mean()            # if multiple rows for same (date,time) -> average them\n",
    "          .reset_index()\n",
    "          .sort_values(['time_of_day', 'date'])\n",
    "    )\n",
    "\n",
    "    # convenience short names for feature naming\n",
    "    col_map = {power_col: 'power', temp_col: 'temp'}\n",
    "\n",
    "    # 2) For each time_of_day group, compute rolling (on days) over shifted series (exclude current)\n",
    "    for w in windows:\n",
    "        prefix = f'prev{w}d'   # e.g. prev3d_mean_power, prev7d_std_temp...\n",
    "        # handle each column separately\n",
    "\n",
    "        for col in agg_cols:\n",
    "            short = col_map[col]\n",
    "            grp = daily.groupby('time_of_day')[col]\n",
    "\n",
    "            if w==1:\n",
    "              daily[f'{prefix}_mean_{short}'] = grp.transform(\n",
    "                  lambda s: s.shift(1).rolling(window=w, min_periods=min_periods).mean()\n",
    "              )\n",
    "            else:\n",
    "              daily[f'lag_{w}d_{short}'] = grp.transform(lambda s: s.shift(w))\n",
    "\n",
    "              daily[f'{prefix}_mean_{short}'] = grp.transform(\n",
    "                  lambda s: s.shift(1).rolling(window=w, min_periods=min_periods).mean()\n",
    "              )\n",
    "\n",
    "              daily[f'{prefix}_min_{short}'] = grp.transform(\n",
    "                  lambda s: s.shift(1).rolling(window=w, min_periods=min_periods).min()\n",
    "              )\n",
    "              daily[f'{prefix}_max_{short}'] = grp.transform(\n",
    "                  lambda s: s.shift(1).rolling(window=w, min_periods=min_periods).max()\n",
    "              )\n",
    "\n",
    "\n",
    "\n",
    "    # 3) Merge daily-level features back to original timestamps by (date, time_of_day)\n",
    "    daily_feats = daily.drop(columns=[power_col, temp_col])\n",
    "    df = df.merge(daily_feats, on=['date', 'time_of_day'], how='left', validate='m:1')\n",
    "    df.drop(columns=['date', 'time_of_day'], inplace=True)\n",
    "\n",
    "    return df, daily\n",
    "\n",
    "train_df, _ = create_timeofday_pastdays_features(train_df)\n",
    "test_df, _ = create_timeofday_pastdays_features(test_df)\n"
   ]
  },
  {
   "cell_type": "code",
   "execution_count": 16,
   "id": "c665c661",
   "metadata": {
    "collapsed": true,
    "executionInfo": {
     "elapsed": 81,
     "status": "ok",
     "timestamp": 1760723181606,
     "user": {
      "displayName": "Merküt merkut",
      "userId": "02212118982751073233"
     },
     "user_tz": -180
    },
    "id": "c665c661"
   },
   "outputs": [],
   "source": [
    "def preprocess_nan_values(df):\n",
    "  # Replace inf / -inf with NaN\n",
    "  df.replace([np.inf, -np.inf], np.nan, inplace=True)\n",
    "  # Option 1: Fill with column median (robust)\n",
    "  df.fillna(0, inplace=True)\n",
    "\n",
    "  return df\n",
    "\n",
    "train_df = preprocess_nan_values(train_df)\n",
    "test_df = preprocess_nan_values(test_df)"
   ]
  },
  {
   "cell_type": "code",
   "execution_count": 19,
   "id": "CUAUpJuTz5-K",
   "metadata": {
    "colab": {
     "base_uri": "https://localhost:8080/"
    },
    "executionInfo": {
     "elapsed": 8,
     "status": "ok",
     "timestamp": 1760723181887,
     "user": {
      "displayName": "Merküt merkut",
      "userId": "02212118982751073233"
     },
     "user_tz": -180
    },
    "id": "CUAUpJuTz5-K",
    "outputId": "e6dba27f-2e0d-45b2-895a-de225633a49f"
   },
   "outputs": [
    {
     "name": "stdout",
     "output_type": "stream",
     "text": [
      "(35040, 314)\n",
      "(105120, 313)\n"
     ]
    }
   ],
   "source": [
    "print(train_df.shape)\n",
    "print(test_df.shape)"
   ]
  },
  {
   "cell_type": "code",
   "execution_count": null,
   "id": "ToZI_RsqbyMc",
   "metadata": {
    "colab": {
     "base_uri": "https://localhost:8080/"
    },
    "collapsed": true,
    "executionInfo": {
     "elapsed": 313,
     "status": "ok",
     "timestamp": 1760723182201,
     "user": {
      "displayName": "Merküt merkut",
      "userId": "02212118982751073233"
     },
     "user_tz": -180
    },
    "id": "ToZI_RsqbyMc",
    "outputId": "48799daf-d25d-49d1-9d07-019d330f654a"
   },
   "outputs": [
    {
     "name": "stdout",
     "output_type": "stream",
     "text": [
      "Index(['Dry_Bulb_Temperature_C', 'Global_Horizontal_Radiation_W/m2', 'Building_Power_kW', 'Demand_Response_Flag', 'hour_sin', 'hour_cos', 'month_sin', 'month_cos', 'weekday_sin', 'weekday_cos',\n",
      "       ...\n",
      "       'prev13d_max_temp', 'lag_14d_power', 'prev14d_mean_power', 'prev14d_min_power', 'prev14d_max_power', 'lag_14d_temp', 'prev14d_mean_temp', 'prev14d_min_temp', 'prev14d_max_temp', 'Demand_Response_Capacity_kW'], dtype='object', length=312)\n"
     ]
    }
   ],
   "source": [
    "num_train = train_df.select_dtypes(include=[np.number]).copy()\n",
    "num_test = test_df.select_dtypes(include=[np.number]).copy()\n",
    "\n",
    "y_train_raw = num_train[TARGET_COL].values.reshape(-1, 1)\n",
    "X_train_num = num_train.drop(columns=[TARGET_COL])\n",
    "\n",
    "\n",
    "for col in num_train.columns:\n",
    "    if col not in num_test.columns:\n",
    "      num_test[col] = 0.0\n",
    "\n",
    "print(num_test.columns)\n",
    "y_test_raw = num_test[TARGET_COL].values.reshape(-1, 1)\n",
    "X_test_num = num_test.drop(columns=[TARGET_COL])\n",
    "\n",
    "# Sıra eşitle\n",
    "X_test_num = X_test_num[X_train_num.columns]"
   ]
  },
  {
   "cell_type": "code",
   "execution_count": null,
   "id": "21eb0121",
   "metadata": {
    "colab": {
     "base_uri": "https://localhost:8080/"
    },
    "executionInfo": {
     "elapsed": 387,
     "status": "ok",
     "timestamp": 1760723182862,
     "user": {
      "displayName": "Merküt merkut",
      "userId": "02212118982751073233"
     },
     "user_tz": -180
    },
    "id": "21eb0121",
    "outputId": "3eca26f9-5e48-41ea-8a39-bc6d6dad54a1"
   },
   "outputs": [
    {
     "name": "stdout",
     "output_type": "stream",
     "text": [
      "[INFO] Scaling done. X_train_scaled: (35040, 311) y_train_scaled: (35040, 1)\n"
     ]
    }
   ],
   "source": [
    "X_scaler = MinMaxScaler(feature_range=(-1,1))\n",
    "y_scaler = MinMaxScaler(feature_range=(-1,1))\n",
    "\n",
    "X_train_scaled = X_scaler.fit_transform(X_train_num.values)\n",
    "X_test_scaled = X_scaler.transform(X_test_num.values)\n",
    "\n",
    "X_train_scaled = X_train_scaled.astype('float32')\n",
    "X_test_scaled = X_test_scaled.astype('float32')\n",
    "\n",
    "y_train_scaled = y_scaler.fit_transform(y_train_raw)\n",
    "y_test_scaled = y_scaler.transform(y_test_raw)\n",
    "\n",
    "print('[INFO] Scaling done. X_train_scaled:', X_train_scaled.shape, 'y_train_scaled:', y_train_scaled.shape)"
   ]
  },
  {
   "cell_type": "code",
   "execution_count": null,
   "id": "63226a6b",
   "metadata": {
    "colab": {
     "base_uri": "https://localhost:8080/"
    },
    "executionInfo": {
     "elapsed": 7976,
     "status": "ok",
     "timestamp": 1760723190848,
     "user": {
      "displayName": "Merküt merkut",
      "userId": "02212118982751073233"
     },
     "user_tz": -180
    },
    "id": "63226a6b",
    "outputId": "db778f3f-04c4-4c63-cec2-6b88f22c90de"
   },
   "outputs": [
    {
     "name": "stdout",
     "output_type": "stream",
     "text": [
      "[INFO] Train sequences: (34849, 192, 311) (34849, 1)\n",
      "[INFO] Test sequences: (104547, 192, 311)\n"
     ]
    }
   ],
   "source": [
    "WINDOW_SIZE=192\n",
    "\n",
    "def make_sequences_by_site(df_raw, X_scaled_all, y_scaled_all, window_size, site_col=SITE_COL, time_col=TIME_COL, have_target=True):\n",
    "    X_seq_list, y_seq_list, end_indices = [], [], []\n",
    "    n_features = X_scaled_all.shape[1]\n",
    "\n",
    "    if site_col in df_raw.columns:\n",
    "        for site, g in df_raw.groupby(site_col):\n",
    "            idx = g.index.values\n",
    "            Xg = X_scaled_all[idx]\n",
    "            yg = y_scaled_all[idx] if (have_target and y_scaled_all is not None) else None\n",
    "            \n",
    "            for i in range(len(idx) - window_size + 1):\n",
    "                X_seq_list.append(Xg[i:i+window_size])\n",
    "                end_indices.append(idx[i+window_size-1])\n",
    "                if have_target and yg is not None:\n",
    "                    y_seq_list.append(yg[i+window_size-1])\n",
    "    else:\n",
    "        idx = np.arange(len(df_raw))\n",
    "        Xg = X_scaled_all\n",
    "        yg = y_scaled_all if (have_target and y_scaled_all is not None) else None\n",
    "        for i in range(len(idx) - window_size + 1):\n",
    "            X_seq_list.append(Xg[i:i+window_size])\n",
    "            end_indices.append(i+window_size-1)\n",
    "            if have_target and yg is not None:\n",
    "                y_seq_list.append(yg[i+window_size-1])\n",
    "\n",
    "    X_seq = np.array(X_seq_list)\n",
    "    y_seq = np.array(y_seq_list) if have_target and y_seq_list else None\n",
    "    return X_seq, y_seq, np.array(end_indices)\n",
    "\n",
    "X_train_seq, y_train_seq, train_end_idx = make_sequences_by_site(train_df, X_train_scaled, y_train_scaled, WINDOW_SIZE, have_target=True)\n",
    "print('[INFO] Train sequences:', X_train_seq.shape, y_train_seq.shape)\n",
    "\n",
    "X_test_seq, _, test_end_idx = make_sequences_by_site(test_df, X_test_scaled, None, WINDOW_SIZE, have_target=False)\n",
    "print('[INFO] Test sequences:', X_test_seq.shape)"
   ]
  },
  {
   "cell_type": "code",
   "execution_count": null,
   "id": "XFP9Ngx2S2OS",
   "metadata": {
    "executionInfo": {
     "elapsed": 1313,
     "status": "ok",
     "timestamp": 1760723192186,
     "user": {
      "displayName": "Merküt merkut",
      "userId": "02212118982751073233"
     },
     "user_tz": -180
    },
    "id": "XFP9Ngx2S2OS"
   },
   "outputs": [],
   "source": [
    "n_features = X_train_seq.shape[-1]\n",
    "\n",
    "inputs = keras.Input(\n",
    "    shape=( WINDOW_SIZE, n_features)\n",
    ")\n",
    "\n",
    "x = layers.LSTM(128, return_sequences=True)(inputs)\n",
    "x = layers.LSTM(64, return_sequences=False)(x)\n",
    "\n",
    "x = layers.Dropout(0.3)(x)\n",
    "x = layers.Dense(64, activation='relu')(x)\n",
    "x = layers.Dropout(0.2)(x)\n",
    "outputs = layers.Dense(1)(x)\n",
    "\n",
    "model = keras.Model(inputs, outputs)"
   ]
  },
  {
   "cell_type": "code",
   "execution_count": null,
   "id": "Dj8r2m1Q3v_M",
   "metadata": {
    "colab": {
     "base_uri": "https://localhost:8080/",
     "height": 353
    },
    "collapsed": true,
    "executionInfo": {
     "elapsed": 36,
     "status": "ok",
     "timestamp": 1760723192223,
     "user": {
      "displayName": "Merküt merkut",
      "userId": "02212118982751073233"
     },
     "user_tz": -180
    },
    "id": "Dj8r2m1Q3v_M",
    "outputId": "d86f0f99-bb32-4e0c-ef17-95911f04fae7"
   },
   "outputs": [],
   "source": [
    "optimizer = Adam(learning_rate=5e-4)\n",
    "model.compile(optimizer=optimizer, loss='mse', metrics=['mae', tf.keras.metrics.RootMeanSquaredError()])#loss değiştir\n",
    "\n",
    "model.summary()"
   ]
  },
  {
   "cell_type": "code",
   "execution_count": null,
   "id": "199b6774",
   "metadata": {
    "colab": {
     "base_uri": "https://localhost:8080/"
    },
    "collapsed": true,
    "executionInfo": {
     "elapsed": 216532,
     "status": "ok",
     "timestamp": 1760723427691,
     "user": {
      "displayName": "Merküt merkut",
      "userId": "02212118982751073233"
     },
     "user_tz": -180
    },
    "id": "199b6774",
    "outputId": "e2688017-038b-48cb-bd56-ae4cfcfcbb3a"
   },
   "outputs": [],
   "source": [
    "callbacks = [\n",
    "    keras.callbacks.EarlyStopping(monitor='val_loss', patience=10, restore_best_weights=True),\n",
    "    tf.keras.callbacks.ReduceLROnPlateau(monitor='val_loss',patience=10),\n",
    "    keras.callbacks.ModelCheckpoint(\n",
    "          filepath='best_lstm_model.keras',\n",
    "          monitor='val_loss',\n",
    "          save_best_only=True\n",
    "          )\n",
    "]\n",
    "\n",
    "history = model.fit(\n",
    "      X_train_seq, y_train_seq, # Pass X_train_seq and y_train_seq separately\n",
    "      epochs=50,\n",
    "      batch_size=128,\n",
    "      validation_split=0.2,\n",
    "      callbacks=callbacks,\n",
    "      verbose=1\n",
    "    )"
   ]
  },
  {
   "cell_type": "code",
   "execution_count": null,
   "id": "37d4928a",
   "metadata": {
    "colab": {
     "base_uri": "https://localhost:8080/"
    },
    "executionInfo": {
     "elapsed": 80790,
     "status": "ok",
     "timestamp": 1760723518244,
     "user": {
      "displayName": "Merküt merkut",
      "userId": "02212118982751073233"
     },
     "user_tz": -180
    },
    "id": "37d4928a",
    "outputId": "942a952b-c1a4-401d-e415-1b0f7f900750"
   },
   "outputs": [],
   "source": [
    "model = keras.Model(inputs, outputs)\n",
    "model.load_weights('/content/best_lstm_model.keras')\n",
    "\n",
    "print('[LOADED] Model loaded successfully using weights.')\n",
    "print('[LOADED] Scalers loaded successfully.')\n",
    "\n",
    "# Convert 'Timestamp_Local' to datetime objects in test_df\n",
    "if TIME_COL in test_df.columns:\n",
    "    test_df[TIME_COL] = pd.to_datetime(test_df[TIME_COL])\n",
    "\n",
    "# Make predictions\n",
    "y_test_pred_scaled = model.predict(X_test_seq, verbose=0)\n",
    "\n",
    "y_test_pred = y_scaler.inverse_transform(y_test_pred_scaled)\n",
    "\n",
    "\n",
    "pred_capacity = np.full((len(test_df),), np.nan, dtype=float)\n",
    "\n",
    "flags = test_df[FLAG_COL].fillna(0).values if FLAG_COL in test_df.columns else np.zeros(len(test_df))\n",
    "# Map the predictions to the correct rows in the original test_df using the end indices\n",
    "for i, end_idx in enumerate(test_end_idx):\n",
    "    pred_capacity[end_idx] = y_test_pred[i]\n",
    "\n",
    "signed_pred = np.zeros_like(pred_capacity)\n",
    "non_zero_mask = (flags != 0) & ~np.isnan(pred_capacity)\n",
    "signed_pred[non_zero_mask] = pred_capacity[non_zero_mask]\n",
    "\n",
    "signed_pred = np.nan_to_num(signed_pred, nan=0.0)\n",
    "\n",
    "# DataFrame\n",
    "out_df = pd.DataFrame({\n",
    "    SITE_COL: test_df[SITE_COL].values if SITE_COL in test_df.columns else 'NA',\n",
    "    TIME_COL: pd.to_datetime(test_df[TIME_COL]).dt.strftime('%Y-%m-%d %H:%M:%S') if TIME_COL in test_df.columns else np.arange(len(test_df)),\n",
    "    FLAG_COL: flags,\n",
    "    'Demand_Response_Capacity_kW': signed_pred\n",
    "})\n",
    "\n",
    "out_df = out_df.sort_values([SITE_COL, TIME_COL]).reset_index(drop=True)\n",
    "out_df.to_csv(PREDICTIONS_CSV, index=False)\n",
    "print('[OK] Predictions saved to:', PREDICTIONS_CSV)"
   ]
  },
  {
   "cell_type": "code",
   "execution_count": null,
   "id": "hZ1NlN6jr837",
   "metadata": {
    "executionInfo": {
     "elapsed": 15,
     "status": "aborted",
     "timestamp": 1760723201754,
     "user": {
      "displayName": "Merküt merkut",
      "userId": "02212118982751073233"
     },
     "user_tz": -180
    },
    "id": "hZ1NlN6jr837"
   },
   "outputs": [],
   "source": [
    "# 10) Modeli Kaydet ve Yükleme Örneği\n",
    "weights_path = os.path.join('LSTM_capacity_weights.weights.h5')\n",
    "features_scaler_path = os.path.join('features_scaler.joblib')\n",
    "target_scaler_path = os.path.join('target_scaler.joblib')\n",
    "\n",
    "# Save only the model weights\n",
    "model.save_weights(weights_path)\n",
    "\n",
    "# Save the scalers\n",
    "joblib.dump(X_scaler, features_scaler_path)\n",
    "joblib.dump(y_scaler, target_scaler_path)\n",
    "\n",
    "\n",
    "print('[SAVED] Model weights:', weights_path)\n",
    "print('[SAVED] Feature scaler:', features_scaler_path)\n",
    "print('[SAVED] Target scaler:', target_scaler_path)"
   ]
  }
 ],
 "metadata": {
  "accelerator": "GPU",
  "colab": {
   "gpuType": "A100",
   "machine_shape": "hm",
   "provenance": [
    {
     "file_id": "1w9xWcelpzXOqgqtYQ33nfzNl4ALYR6jT",
     "timestamp": 1760715146952
    },
    {
     "file_id": "1iGsGKbxAo7Rlobt4luccQQ4n59qZo7gM",
     "timestamp": 1760713661544
    },
    {
     "file_id": "17fmIkER9DJYle1MoPuvQjq-n9wCT8jmP",
     "timestamp": 1760711683608
    },
    {
     "file_id": "1NqiZoDLd6YNjN50P_Y7mv_3RHEkmC8zJ",
     "timestamp": 1760607330554
    }
   ]
  },
  "kernelspec": {
   "display_name": "Python 3",
   "name": "python3"
  },
  "language_info": {
   "codemirror_mode": {
    "name": "ipython",
    "version": 3
   },
   "file_extension": ".py",
   "mimetype": "text/x-python",
   "name": "python",
   "nbconvert_exporter": "python",
   "pygments_lexer": "ipython3",
   "version": "3.11.13"
  }
 },
 "nbformat": 4,
 "nbformat_minor": 5
}
